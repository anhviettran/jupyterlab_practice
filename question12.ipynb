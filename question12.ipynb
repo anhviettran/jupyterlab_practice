{
 "cells": [
  {
   "cell_type": "markdown",
   "id": "e6677d62-a5e5-4467-9c3b-9ee03a204e05",
   "metadata": {},
   "source": [
    "We are currently working in the following directory:"
   ]
  },
  {
   "cell_type": "code",
   "execution_count": null,
   "id": "8956b881-b038-4c3c-b238-643ecccfaec5",
   "metadata": {},
   "outputs": [],
   "source": [
    "!pwd"
   ]
  },
  {
   "cell_type": "markdown",
   "id": "c7bee016-2e17-4dee-b92d-b16ad467411a",
   "metadata": {},
   "source": [
    "To time how long it takes to run a Python cell, we could use the timeit command inside a cell as is shown below: Followed by the proper use of the timeit command to time the following loop: "
   ]
  },
  {
   "cell_type": "code",
   "execution_count": null,
   "id": "4402c61a-1098-4a77-93ca-388206ad32de",
   "metadata": {},
   "outputs": [],
   "source": []
  },
  {
   "cell_type": "code",
   "execution_count": null,
   "id": "3059543f-a1e7-4867-8f3d-faa344dd7936",
   "metadata": {},
   "outputs": [],
   "source": []
  }
 ],
 "metadata": {
  "kernelspec": {
   "display_name": "",
   "name": ""
  },
  "language_info": {
   "name": ""
  }
 },
 "nbformat": 4,
 "nbformat_minor": 5
}
