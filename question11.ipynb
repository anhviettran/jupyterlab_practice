{
 "cells": [
  {
   "cell_type": "markdown",
   "id": "d513863b-2c26-45f9-8640-6fc0748b3675",
   "metadata": {},
   "source": [
    "# Viet Anh Tran\n",
    "\"Notebook for Assignment 7\""
   ]
  },
  {
   "cell_type": "code",
   "execution_count": null,
   "id": "e9f30794-96f0-4bb9-a759-de4c02c27b4a",
   "metadata": {},
   "outputs": [],
   "source": [
    "def compute_mean(values):\n",
    "    if not values:  \n",
    "        return None\n",
    "    mean_value = sum(values) / len(values)\n",
    "    return mean_value\n",
    "\n",
    "result = compute_mean([2, 4, 6, 8])\n",
    "print(result)"
   ]
  },
  {
   "cell_type": "markdown",
   "id": "ca342151-701c-425c-8f38-d49e57379618",
   "metadata": {},
   "source": [
    "This code defines a function compute_mean that calculates the mean of a list of numbers. Here, I have this function with the list [2, 4, 6, 8] and prints the result. When I run this code, the output should be 5.0 and I have got the result as expected.\n",
    "\n",
    "Please find the equation of the mean written in Latex below:\n",
    "$$\n",
    "\\begin{aligned}\n",
    "\\bar{x}=\\frac{x_1 + x_2 + \\ldots + x_n}{n}&=\\frac{1}{n}\\left(\\sum_{i=1}^{n} x_i \\right)\n",
    "\\end{aligned}\n",
    "$$"
   ]
  },
  {
   "cell_type": "code",
   "execution_count": null,
   "id": "950b4179-3107-453f-8eae-9e8c34df8de5",
   "metadata": {},
   "outputs": [],
   "source": []
  }
 ],
 "metadata": {
  "kernelspec": {
   "display_name": "",
   "name": ""
  },
  "language_info": {
   "name": ""
  }
 },
 "nbformat": 4,
 "nbformat_minor": 5
}
